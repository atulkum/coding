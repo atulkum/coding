{
  "cells": [
    {
      "cell_type": "markdown",
      "metadata": {
        "id": "view-in-github",
        "colab_type": "text"
      },
      "source": [
        "<a href=\"https://colab.research.google.com/github/atulkum/coding/blob/main/Atul_Kumar_C4AIScholars_takehome_challenge_2022.ipynb\" target=\"_parent\"><img src=\"https://colab.research.google.com/assets/colab-badge.svg\" alt=\"Open In Colab\"/></a>"
      ]
    },
    {
      "cell_type": "markdown",
      "metadata": {
        "id": "fRUrAHlZKdWd"
      },
      "source": [
        "# C4AI Scholars Program Takehome Challenge\n"
      ]
    },
    {
      "cell_type": "markdown",
      "metadata": {
        "id": "PY4wvFv6lTbY"
      },
      "source": [
        "### Background\n",
        "\n",
        "Welcome to the C4AI Scholars Program Take-Home Challenge! This exercise is designed to allow you to showcase your engineering and problem solving skills. The Challenge consists of three parts:\n",
        "\n",
        "* Part One of the challenge requires identifying bugs, and getting the code working. This is designed to test your ability to grapple with real world engineering challenges.\n",
        "* Part Two of the challenge tests your ability to generate code for a specified problem. \n",
        "* Part Three of the challenge is an opportunity for you to attempt an optional challenge question that extends the original problem set. \n",
        "\n",
        "\n",
        "These tasks were chosen as a setting to see how you think about problems, even if they are not in your own research field of interest. The tasks and dataset are not meant to be indicative of the research goals of the Scholar Program. We purposefully have selected a simple toy problem so the focus is on how you think, and does not require significant machine learning resources. \n",
        "\n",
        "Good luck! If you have questions about the framing of the questions, please contact info@for.ai  \n",
        "\n",
        "\n",
        "### How to Use and Submit this Document\n",
        "\n",
        "* **Make a copy of this document** and **rename** it **Firstname_Lastname_C4AIScholarsChallenge**\n",
        "* Once you’ve completed all tasks, **save and pin your revisions**\n",
        "* **Submit a link** to your final document via the [Cohere For AI Scholars Program application](https://jobs.lever.co/cohere/?department=Cohere%20For%20AI). "
      ]
    },
    {
      "cell_type": "markdown",
      "metadata": {
        "id": "LmbPmOHhLx4U"
      },
      "source": [
        "\n",
        "\n",
        "---\n",
        "\n"
      ]
    },
    {
      "cell_type": "markdown",
      "metadata": {
        "id": "qc-enDOhazoe"
      },
      "source": [
        "## Overview of Singular Value Decomposition\n",
        "\n",
        "In this takehome, you will be working on a problem involving singular value decomposition. Singular Value Decomposition (SVD) exists for every rectangular matrix. The nice thing about SVD is that the original matrix can be expressed as the sum of outer products of left and singular vectors scaled by the corresponding singular values. Formally:\n",
        "\n",
        "> Let 𝛢 be a rectangular matrix of dimensions 𝑚𝘹𝑛, then the SVD of the matrix A is given by $ A = U𝛴V^T$ where $U$ is an orthogonal matrix of shape mxm containing the left singular vectors, $V$ is an orthogonal matrix of shape nxn containing the right singular vectors and $𝛴$ is a diagonal matrix containing the singular values of $A$. This formulation of SVD can be re-expressed as \\begin{align} A = \\sum_{i=1}^{r} s_i. u_i v_i^T \\end{align} where $r = \\text{min}(m,n)$ represents the rank of the matrix, $s_i$ is the $i$th singular value and $u_i v_i^T$ is the outer product of the $i$th left and right singular vectors. \n",
        "\n",
        "<!-- \\begin{align}\n",
        "A = \\sum_{i=1}^{\\text{min}(m,n)} s_i. u_i v_i^T\n",
        "\\end{align}\n",
        "\\begin{align} -->\n",
        "\n",
        "> The singular values $𝛴$ are decreasing in order. So, each outer product is scaled by a smaller value as we compute each term in the sum above. This gives us an opportunity to approximate $A$ using only the sum of the first $k$ outer products where $k < \\text{min}(m,n)$ $-$ this effectively means that we are zero-ing out some of the singular values by assuming that the contribution to the sum is negligible. This is called low-rank approximation.\n",
        "\n",
        "If you aren't familiar with singular value decomposition, or the above feels rusty, don't worry. Take a moment to brush up your knowledge using any of the following resources:\n",
        "* [stanford lecture notes on low rank approximations](https://web.stanford.edu/class/cs168/l/l9.pdf)\n",
        "* [youtube series of short and beginner friendly lectures](https://www.youtube.com/watch?v=gXbThCXjZFM&list=PLMrJAkhIeNNSVjnsviglFoY2nXildDCcv)\n",
        "\n"
      ]
    },
    {
      "cell_type": "markdown",
      "metadata": {
        "id": "AcL7u9wJjPF3"
      },
      "source": [
        "## Check for understanding (3 points)"
      ]
    },
    {
      "cell_type": "markdown",
      "metadata": {
        "id": "-v-iHTH3nasL"
      },
      "source": [
        "#### Q1: What are some real world applications of low rank approximations?\n",
        "\n",
        "\n",
        "#### Answer:\n",
        "Data Compression\n",
        "\n",
        "De-noising the data set\n",
        "\n",
        "Matrix completion \n",
        "\n"
      ]
    },
    {
      "cell_type": "markdown",
      "metadata": {
        "id": "UHGqpn3tkFRL"
      },
      "source": [
        "#### Q2: What are the benefits of compressing a deep neural network? How would you measure the benefits of compression?\n",
        "\n",
        "\n",
        "#### Answer:\n",
        "benefits: \n",
        "\n",
        "reduce number of parameters\n",
        "\n",
        "less sparse matrix operation, increase throughput of GPU computation\n",
        "\n",
        "fast inference\n",
        "\n",
        "How would you measure the benefits of compression?\n",
        "\n",
        "accuracy @ compressed %\n",
        "\n",
        "\n"
      ]
    },
    {
      "cell_type": "markdown",
      "metadata": {
        "id": "l9r4v5vng9ma"
      },
      "source": [
        "#### Q3: In this takehome, we will consider how singular value decomposition can be used to compress a deep neural network. Compared to other compression methods used for deep neural networks such as pruning, quantization, or efficient architectures, what are the relative merits/demerits of low rank approximations? Choose one or two alternative compression methods and compare with singular value decomposition.\n",
        "\n",
        "#### Answer:\n",
        "quantization vs low rank approximations\n",
        "1) quantization can not remove sparcity in the network but low rank approximations remove sparcity.\n",
        "2) quantization is easy to implment low rank approximations need more computation.\n",
        "3) If all the variance is explained by selected rank in low rank approximation then we don't lose much accuracy, but quantization reduce the range of weight values and hence affect accuracy."
      ]
    },
    {
      "cell_type": "markdown",
      "metadata": {
        "id": "O81HH6D3Lugd"
      },
      "source": [
        "\n",
        "\n",
        "---\n",
        "\n"
      ]
    },
    {
      "cell_type": "markdown",
      "metadata": {
        "id": "xoWy4-iQIYJ0"
      },
      "source": [
        "### Imports"
      ]
    },
    {
      "cell_type": "code",
      "execution_count": 2,
      "metadata": {
        "colab": {
          "base_uri": "https://localhost:8080/"
        },
        "id": "wBFa6wXqAKgK",
        "outputId": "5d073df7-b285-4ace-a3d2-6c6aad3f5a91"
      },
      "outputs": [
        {
          "output_type": "stream",
          "name": "stdout",
          "text": [
            "Looking in indexes: https://pypi.org/simple, https://us-python.pkg.dev/colab-wheels/public/simple/\n",
            "Collecting dm-haiku\n",
            "  Downloading dm_haiku-0.0.8-py3-none-any.whl (350 kB)\n",
            "\u001b[K     |████████████████████████████████| 350 kB 13.2 MB/s \n",
            "\u001b[?25hCollecting optax\n",
            "  Downloading optax-0.1.3-py3-none-any.whl (145 kB)\n",
            "\u001b[K     |████████████████████████████████| 145 kB 59.5 MB/s \n",
            "\u001b[?25hRequirement already satisfied: numpy>=1.18.0 in /usr/local/lib/python3.7/dist-packages (from dm-haiku) (1.21.6)\n",
            "Requirement already satisfied: absl-py>=0.7.1 in /usr/local/lib/python3.7/dist-packages (from dm-haiku) (1.3.0)\n",
            "Requirement already satisfied: tabulate>=0.8.9 in /usr/local/lib/python3.7/dist-packages (from dm-haiku) (0.8.10)\n",
            "Requirement already satisfied: typing-extensions in /usr/local/lib/python3.7/dist-packages (from dm-haiku) (4.1.1)\n",
            "Collecting jmp>=0.0.2\n",
            "  Downloading jmp-0.0.2-py3-none-any.whl (16 kB)\n",
            "Requirement already satisfied: jaxlib>=0.1.37 in /usr/local/lib/python3.7/dist-packages (from optax) (0.3.22+cuda11.cudnn805)\n",
            "Requirement already satisfied: jax>=0.1.55 in /usr/local/lib/python3.7/dist-packages (from optax) (0.3.23)\n",
            "Collecting chex>=0.0.4\n",
            "  Downloading chex-0.1.5-py3-none-any.whl (85 kB)\n",
            "\u001b[K     |████████████████████████████████| 85 kB 2.8 MB/s \n",
            "\u001b[?25hRequirement already satisfied: toolz>=0.9.0 in /usr/local/lib/python3.7/dist-packages (from chex>=0.0.4->optax) (0.12.0)\n",
            "Requirement already satisfied: dm-tree>=0.1.5 in /usr/local/lib/python3.7/dist-packages (from chex>=0.0.4->optax) (0.1.7)\n",
            "Requirement already satisfied: scipy>=1.5 in /usr/local/lib/python3.7/dist-packages (from jax>=0.1.55->optax) (1.7.3)\n",
            "Requirement already satisfied: opt-einsum in /usr/local/lib/python3.7/dist-packages (from jax>=0.1.55->optax) (3.3.0)\n",
            "Requirement already satisfied: etils[epath] in /usr/local/lib/python3.7/dist-packages (from jax>=0.1.55->optax) (0.8.0)\n",
            "Requirement already satisfied: importlib_resources in /usr/local/lib/python3.7/dist-packages (from etils[epath]->jax>=0.1.55->optax) (5.10.0)\n",
            "Requirement already satisfied: zipp in /usr/local/lib/python3.7/dist-packages (from etils[epath]->jax>=0.1.55->optax) (3.10.0)\n",
            "Installing collected packages: jmp, chex, optax, dm-haiku\n",
            "Successfully installed chex-0.1.5 dm-haiku-0.0.8 jmp-0.0.2 optax-0.1.3\n"
          ]
        }
      ],
      "source": [
        "!pip install dm-haiku optax"
      ]
    },
    {
      "cell_type": "code",
      "execution_count": 4,
      "metadata": {
        "id": "wzdlf_milUbR"
      },
      "outputs": [],
      "source": [
        "from typing import Iterator, Mapping, Tuple\n",
        "from copy import deepcopy\n",
        "import time\n",
        "from absl import app\n",
        "import haiku as hk\n",
        "import matplotlib.pyplot as plt\n",
        "import jax\n",
        "import jax.numpy as jnp\n",
        "import numpy as np\n",
        "import optax\n",
        "import tensorflow_datasets as tfds\n",
        "import tensorflow as tf\n",
        "from functools import partial\n",
        "import math\n",
        "\n",
        "Batch = Tuple[np.ndarray, np.ndarray]"
      ]
    },
    {
      "cell_type": "markdown",
      "metadata": {
        "id": "fsYJmUqz-uFT"
      },
      "source": [
        "\n",
        "\n",
        "---\n",
        "\n",
        "\n"
      ]
    },
    {
      "cell_type": "markdown",
      "metadata": {
        "id": "EjTGxEfqnSmd"
      },
      "source": [
        "## Coding Challenge Part I : Debugging Challenge (10 Points)\n",
        "\n",
        "\n",
        "We are now going to explore using SVD to compute low rank approximations of the parameters of a small deep neural network. You are using a very simple toy model as a first baseline. Section 3 will give you the chance to improve baseline accuracy beyond this very simple model -- this is just a toy setting to first explore low rank approximations.\n",
        "\n",
        "The first part of this challenge is primarily a debugging challenge. It will require removing bugs in order to train a very simple network. We have introduced several bugs -- some are subtle and will not break your code but will degrade final performance. These subtle bugs are introduced to understand your grasp of fundamental machine learning principles. There are also more obvious bugs designed to break your code. \n",
        "\n",
        "* [**4 points**] Your goal is to get the code working. There are 4 bugs in the code, all 4 of these are subtle bugs which are designed to impair test accuracy but not break the code. You will get partial points for each of the 4 bugs you find. After finding all bugs, your test performance should be around 66-67% test accuracy. \n",
        "\n",
        "* [**2 points**] We will give extra points for also adding improved documentation to each of the functions we introduce in this section, and for describing the fixes to the bugs. \n",
        "\n",
        "* [**4 points**] There are also two functions you will need to code up in this section -- we indicate where these code changes need to happen with TODO comments. \n",
        "\n",
        "* Do not alter the model architecture or the learning rate.\n",
        "\n",
        "\n",
        "Useful tips:\n",
        "* To iterate faster and avoid training for 10000 steps each time you want to test whether you have found all the bugs, a good sign you have caught the bugs is wheter after 1000/10000 steps your accuracy >40%.\n",
        "* The colab difftool is useful to track what code you have changed during the debugging challenge (incase you need to revert code). You can access this via tools > diff notebooks."
      ]
    },
    {
      "cell_type": "code",
      "execution_count": 8,
      "metadata": {
        "id": "IqpgWQJs-evw"
      },
      "outputs": [],
      "source": [
        "CIFAR10_MEAN = (0.4914, 0.4822, 0.4465)\n",
        "CIFAR10_STD = (0.2023, 0.1994, 0.2010)\n",
        "\n",
        "\n",
        "def net_fn(batch: Batch) -> jnp.ndarray:\n",
        "    x = normalize(batch[0])\n",
        "\n",
        "    # Do NOT alter the architecture definition below.\n",
        "    net = hk.Sequential([\n",
        "        hk.Conv2D(output_channels=6 * 3, kernel_shape=(5, 5)),\n",
        "        jax.nn.relu,\n",
        "        hk.AvgPool(window_shape=(2, 2), strides=(2, 2), padding='VALID'),\n",
        "        jax.nn.relu,\n",
        "        hk.Conv2D(output_channels=16 * 3, kernel_shape=(5, 5)),\n",
        "        jax.nn.relu,\n",
        "        hk.AvgPool(window_shape=(2, 2), strides=(2, 2), padding='VALID'),\n",
        "        hk.Flatten(),\n",
        "        hk.Linear(3000), jax.nn.relu,\n",
        "        hk.Linear(2000), jax.nn.relu,\n",
        "        hk.Linear(2000), jax.nn.relu,\n",
        "        hk.Linear(1000), jax.nn.relu,\n",
        "        hk.Linear(10),\n",
        "    ])\n",
        "    return net(x)\n",
        "\n",
        "\n",
        "def load_dataset(\n",
        "        split: str,\n",
        "        *,\n",
        "        is_training: bool,\n",
        "        batch_size: int,\n",
        ") -> Iterator[tuple]:\n",
        "    \"\"\"Loads the dataset as a generator of batches.\"\"\"\n",
        "    ds = tfds.load('cifar10', split=split, as_supervised=True).cache().repeat()\n",
        "    if is_training:\n",
        "        ds = ds.shuffle(10 * batch_size, seed=0)\n",
        "    ds = ds.batch(batch_size)\n",
        "    return iter(tfds.as_numpy(ds))\n",
        "\n",
        "\n",
        "@jax.jit\n",
        "def compute_loss(params: hk.Params, batch: Batch) -> jnp.ndarray:\n",
        "    \"\"\"Compute the loss of the network, including L2.\"\"\"\n",
        "    x, y = batch\n",
        "    logits = net.apply(params, batch)\n",
        "    labels = jax.nn.one_hot(y, 10)\n",
        "\n",
        "    # TODO: add code below to compute the l2_loss variable\n",
        "    l2_loss = 0.5 * sum(\n",
        "        jnp.sum(jnp.square(p)) for p in jax.tree_util.tree_leaves(params))\n",
        "\n",
        "    softmax_xent = -jnp.sum(labels * jax.nn.log_softmax(logits))\n",
        "    # BUG 1: \"softmax_xent - (1e-4 * l2_loss)\"\n",
        "    # should be \"softmax_xent + (1e-4 * l2_loss)\"\n",
        "    return softmax_xent + 1e-4 * l2_loss\n",
        "\n",
        "\n",
        "@jax.jit\n",
        "def compute_accuracy(params: hk.Params, batch: Batch) -> jnp.ndarray:\n",
        "    \"\"\"Evaluation metric (classification accuracy).\"\"\"\n",
        "    predictions = net.apply(params, batch)\n",
        "\n",
        "    # TODO: add code below to compute the accuracy over the batch.\n",
        "    accuracy = jnp.mean(jnp.argmax(predictions, axis=-1) == batch[1])\n",
        "    return accuracy\n",
        "\n",
        "\n",
        "@jax.jit\n",
        "def update(\n",
        "    params: hk.Params,\n",
        "    opt_state: optax.OptState,\n",
        "    batch: Batch,\n",
        ") -> Tuple[hk.Params, optax.OptState]:\n",
        "  \"\"\"Update the weights using backpropagation with Adam optimizer.\"\"\"\n",
        "  grads = jax.grad(compute_loss)(params, batch)\n",
        "  updates, opt_state = opt.update(grads, opt_state)\n",
        "  new_params = optax.apply_updates(params, updates)\n",
        "  return new_params, opt_state\n",
        "\n",
        "@jax.jit\n",
        "def ema_update(params, avg_params):\n",
        "  \"\"\"\n",
        "   maintain avg_params, the exponential moving average of the \"live\" params.\n",
        "   avg_params is used only for evaluation \n",
        "  \"\"\"\n",
        "  return optax.incremental_update(params, avg_params, step_size=0.001)\n",
        "\n",
        "\n",
        "def normalize(images):\n",
        "  \"\"\"\n",
        "  Normalize the input RGB image.\n",
        "  \"\"\"\n",
        "  mean = np.asarray(CIFAR10_MEAN)\n",
        "  std = np.asarray(CIFAR10_STD)\n",
        "  #BUG 2: datatype should be jnp.float32\n",
        "  x = images.astype(jnp.float32) / 255.\n",
        "  #BUG 3: \"x /- mean\" should be \"x -= mean\"\n",
        "  x -= mean\n",
        "  x /= std\n",
        "\n",
        "  return x"
      ]
    },
    {
      "cell_type": "markdown",
      "metadata": {
        "id": "d5iI930cIjzM"
      },
      "source": [
        "### Training"
      ]
    },
    {
      "cell_type": "code",
      "execution_count": 9,
      "metadata": {
        "colab": {
          "base_uri": "https://localhost:8080/"
        },
        "id": "Q4-HuMSH_Cbw",
        "outputId": "e7981043-ae7b-4c89-b803-0427aeb247b7"
      },
      "outputs": [
        {
          "output_type": "stream",
          "name": "stdout",
          "text": [
            "[Step 0] Validation / Test accuracy: 0.101 / 0.103.\n",
            "[Step 1000] Validation / Test accuracy: 0.473 / 0.483.\n",
            "[Step 2000] Validation / Test accuracy: 0.603 / 0.614.\n",
            "[Step 3000] Validation / Test accuracy: 0.616 / 0.626.\n",
            "[Step 4000] Validation / Test accuracy: 0.621 / 0.630.\n",
            "[Step 5000] Validation / Test accuracy: 0.623 / 0.628.\n",
            "[Step 6000] Validation / Test accuracy: 0.625 / 0.625.\n",
            "[Step 7000] Validation / Test accuracy: 0.626 / 0.623.\n",
            "[Step 8000] Validation / Test accuracy: 0.628 / 0.626.\n",
            "[Step 9000] Validation / Test accuracy: 0.624 / 0.625.\n",
            "[Step 10000] Validation / Test accuracy: 0.625 / 0.628.\n"
          ]
        }
      ],
      "source": [
        "net = hk.without_apply_rng(hk.transform(net_fn))\n",
        "\n",
        "# Do not change learning rate\n",
        "opt = optax.adam(1e-3)\n",
        "#BUG 4: train should have \"train[0%:80%]\" split \n",
        "train = load_dataset(\"train[0%:80%]\" , is_training=True, batch_size=1000)\n",
        "validation = load_dataset(\"train[80%:]\", is_training=False, batch_size=10000)\n",
        "test = load_dataset(\"test\", is_training=False, batch_size=10000)\n",
        "\n",
        "params = avg_params = net.init(jax.random.PRNGKey(42), next(train))\n",
        "opt_state = opt.init(params)\n",
        "\n",
        "# Do not alter the number of steps\n",
        "for step in range(10001):\n",
        "  if step % 1000 == 0:\n",
        "    val_accuracy = compute_accuracy(avg_params, next(validation))\n",
        "    test_accuracy = compute_accuracy(avg_params, next(test))\n",
        "    val_accuracy, test_accuracy = jax.device_get(\n",
        "        (val_accuracy, test_accuracy))\n",
        "    print(f\"[Step {step}] Validation / Test accuracy: \"\n",
        "          f\"{val_accuracy:.3f} / {test_accuracy:.3f}.\")\n",
        "\n",
        "  params, opt_state = update(params, opt_state, next(train))\n",
        "  avg_params = ema_update(params, avg_params)"
      ]
    },
    {
      "cell_type": "markdown",
      "metadata": {
        "id": "QBWQhbV-MPQA"
      },
      "source": [
        "\n",
        "\n",
        "---\n",
        "\n"
      ]
    },
    {
      "cell_type": "markdown",
      "metadata": {
        "id": "qQmOspeD0jCh"
      },
      "source": [
        "## Coding Challenge Part 2: Compression through Low Rank Approximation (8 points)\n",
        "\n",
        "In this section, you will add code to compute the low rank approximation and to compute evaluation metrics. We will evaluate whether the low rank approximation allows for speed up in inference time. We define inference time as the average time to compute the prediction for all examples in the test set.\n",
        "\n",
        "* [**4 points**] You will need to add code to define both the compute_eval_metrics and rank_approximated weight function. \n",
        "* [**4 points**] Q4 and Q5 are worth 2 points each."
      ]
    },
    {
      "cell_type": "code",
      "execution_count": 10,
      "metadata": {
        "id": "sdZqO7W_KSX8"
      },
      "outputs": [],
      "source": [
        "def compute_eval_metrics(params, batch, n_samples):\n",
        "# TODO: add code to compute the time for inference.\n",
        "  duration_list = []\n",
        "  accuracy_list = []\n",
        "  for _ in range(n_samples):\n",
        "    start = time.perf_counter()\n",
        "    # TODO: add code to correctly compute the accuracy on a given batch.\n",
        "    acc = compute_accuracy(params, batch)\n",
        "    duration = time.perf_counter() - start\n",
        "    duration_list.append(duration)\n",
        "    accuracy_list.append(acc)\n",
        "\n",
        "  return accuracy_list, duration_list"
      ]
    },
    {
      "cell_type": "code",
      "execution_count": 11,
      "metadata": {
        "id": "X8U8Nlp9IS4q"
      },
      "outputs": [],
      "source": [
        "def rank_approximated_weight(weight: jnp.ndarray, rank_fraction: float):\n",
        "  # TODO: replace the code below with code to compute the SVD of the matrix to return the rank approximated weights u and v for a given matrix.\n",
        "  size = min(weight.shape[0], weight.shape[1])\n",
        "  k = int(size*rank_fraction)\n",
        "  U, S, V = jnp.linalg.svd(weight, full_matrices=False)\n",
        "  u = U[:, :k] @ jnp.diag(S[:k])\n",
        "  v = V[:k, :]  \n",
        "  return u, v"
      ]
    },
    {
      "cell_type": "markdown",
      "metadata": {
        "id": "lvm9InR4JG4F"
      },
      "source": [
        "### Evaluations at different ranks\n",
        "\n",
        "The code below first replaces the weights with the low rank factorizations at different rank fractions. For each modified net, we compute the new eval accuracy. Firstly, add code for the rank_approximated_weight and add code to correctly compute the time for inference (the duration)."
      ]
    },
    {
      "cell_type": "code",
      "execution_count": 12,
      "metadata": {
        "colab": {
          "base_uri": "https://localhost:8080/"
        },
        "id": "PEjLxaDPEGEY",
        "outputId": "87d4abd0-5086-4570-a1e8-249d7499e7ca"
      },
      "outputs": [
        {
          "output_type": "stream",
          "name": "stdout",
          "text": [
            "Evaluating the model at 1.0\n",
            "Rank Fraction / Test accuracy: 1.00 / 0.595.\n",
            "Rank Fraction / Duration: 1.00 / 0.0889.\n",
            "Evaluating the model at 0.9\n",
            "Rank Fraction / Test accuracy: 0.90 / 0.596.\n",
            "Rank Fraction / Duration: 0.90 / 0.0889.\n",
            "Evaluating the model at 0.8\n",
            "Rank Fraction / Test accuracy: 0.80 / 0.596.\n",
            "Rank Fraction / Duration: 0.80 / 0.0893.\n",
            "Evaluating the model at 0.7000000000000001\n",
            "Rank Fraction / Test accuracy: 0.70 / 0.592.\n",
            "Rank Fraction / Duration: 0.70 / 0.0900.\n",
            "Evaluating the model at 0.6000000000000001\n",
            "Rank Fraction / Test accuracy: 0.60 / 0.592.\n",
            "Rank Fraction / Duration: 0.60 / 0.0915.\n",
            "Evaluating the model at 0.5000000000000001\n",
            "Rank Fraction / Test accuracy: 0.50 / 0.570.\n",
            "Rank Fraction / Duration: 0.50 / 0.0909.\n",
            "Evaluating the model at 0.40000000000000013\n",
            "Rank Fraction / Test accuracy: 0.40 / 0.549.\n",
            "Rank Fraction / Duration: 0.40 / 0.0902.\n",
            "Evaluating the model at 0.30000000000000016\n",
            "Rank Fraction / Test accuracy: 0.30 / 0.529.\n",
            "Rank Fraction / Duration: 0.30 / 0.0909.\n",
            "Evaluating the model at 0.20000000000000018\n",
            "Rank Fraction / Test accuracy: 0.20 / 0.338.\n",
            "Rank Fraction / Duration: 0.20 / 0.0908.\n",
            "Evaluating the model at 0.1000000000000002\n",
            "Rank Fraction / Test accuracy: 0.10 / 0.189.\n",
            "Rank Fraction / Duration: 0.10 / 0.0909.\n"
          ]
        }
      ],
      "source": [
        "rank_truncated_params = deepcopy(params)\n",
        "ranks_and_accuracies = []\n",
        "ranks_and_times = []\n",
        "for rank_fraction in np.arange(1.0, 0.0, -0.1):\n",
        "\n",
        "  print(f\"Evaluating the model at {rank_fraction}\")\n",
        "  for layer in params.keys():\n",
        "    if 'conv' in layer:\n",
        "      continue\n",
        "    weight = params[layer]['w']\n",
        "    # TODO: complete coding the rank_approximated_weight function to compute the SVD of the matrix to return the rank approximated weights u and v for a given matrix.\n",
        "    u, v = rank_approximated_weight(weight, rank_fraction)\n",
        "    rank_truncated_params[layer]['w'] = u@v\n",
        "\n",
        "  test_batch = next(test)\n",
        "  # we compute metrics over 50 samples to reduce noise in the measurement.\n",
        "  n_samples = 50\n",
        "  # TODO: complete coding the compute_eval_metrics function to compute latency 50 seperate times given the batch passed to compute_eval_metrics. Return the average across all latencies you store.\n",
        "  test_accuracy, latency = compute_eval_metrics(rank_truncated_params, next(test), n_samples)\n",
        "  print(f\"Rank Fraction / Test accuracy: \"\n",
        "          f\"{rank_fraction:.2f} / {np.mean(test_accuracy):.3f}.\")\n",
        "  ranks_and_accuracies.append((rank_fraction, np.mean(test_accuracy)))\n",
        "  print(f\"Rank Fraction / Duration: \"\n",
        "          f\"{rank_fraction:.2f} / {np.mean(latency):.4f}.\")\n",
        "  ranks_and_times.append((rank_fraction, np.mean(latency)))"
      ]
    },
    {
      "cell_type": "markdown",
      "metadata": {
        "id": "UzyvqIr38eWw"
      },
      "source": [
        "### Q4: What do you observe as the relationship between rank fraction and test accuracy?\n",
        "\n",
        "Plot this relationship showing accuracy (y-axis) vs rank percentage of the matrix (x-axis). You should use the ranks_and_accuracies list computed above.\n",
        "\n",
        "Answer:"
      ]
    },
    {
      "cell_type": "code",
      "execution_count": 13,
      "metadata": {
        "id": "TCdYJ6lSEKM9",
        "colab": {
          "base_uri": "https://localhost:8080/",
          "height": 295
        },
        "outputId": "d23f2a51-a387-419e-bd6e-9d57c806b348"
      },
      "outputs": [
        {
          "output_type": "display_data",
          "data": {
            "text/plain": [
              "<Figure size 432x288 with 1 Axes>"
            ],
            "image/png": "[encoded data removed]"
          },
          "metadata": {
            "needs_background": "light"
          }
        }
      ],
      "source": [
        "## TODO: add your code below to plot the relationship between time and test set accuracy\n",
        "x = []\n",
        "y = []\n",
        "for r, a in ranks_and_accuracies:\n",
        "  y.append(a)\n",
        "  x.append(r)\n",
        "plt.plot(x, y)\n",
        "plt.title(\"Relationship between time and test set accuracy\")\n",
        "plt.xlabel(\"rank %\")\n",
        "plt.ylabel(\"accuracy\")\n",
        "plt.show()"
      ]
    },
    {
      "cell_type": "markdown",
      "metadata": {
        "id": "rRkI8rAO5UYe"
      },
      "source": [
        "### Q5: Does replacing the weight matrix with the low factor matrix result in latency speed ups?\n",
        "\n",
        "Plot the relationship of time (y-axis) vs rank percentage (x-axis). To do so add code to compute the ranks_and_times list.\n",
        "\n",
        "Answer:"
      ]
    },
    {
      "cell_type": "code",
      "execution_count": 14,
      "metadata": {
        "id": "f7jlMYxhi7E-",
        "colab": {
          "base_uri": "https://localhost:8080/",
          "height": 295
        },
        "outputId": "7d80cb37-10e2-47c3-be85-95d141c6fd74"
      },
      "outputs": [
        {
          "output_type": "display_data",
          "data": {
            "text/plain": [
              "<Figure size 432x288 with 1 Axes>"
            ],
            "image/png": "[encoded data removed]"
          },
          "metadata": {
            "needs_background": "light"
          }
        }
      ],
      "source": [
        "## TODO: add your code below to plot the relationship between time and rank percentage\n",
        "x = []\n",
        "y = []\n",
        "for r, t in ranks_and_times:\n",
        "  y.append(t)\n",
        "  x.append(r)\n",
        "plt.plot(x, y)\n",
        "plt.title(\"Relationship between time and rank percentage\")\n",
        "plt.xlabel(\"rank %\")\n",
        "plt.ylabel(\"time\")\n",
        "plt.show()"
      ]
    },
    {
      "cell_type": "markdown",
      "metadata": {
        "id": "KR3JTDWb2QII"
      },
      "source": [
        "## Coding Challenge Part 3: Perform evaluations on the dataset in factorized space. (4 points)\n",
        "\n",
        "In this section, you will perform evaluations on the dataset in factorized space.\n",
        "\n",
        "* [**4 points**] 2 pts for question 6 and question 7."
      ]
    },
    {
      "cell_type": "code",
      "execution_count": 15,
      "metadata": {
        "id": "OctdUxerSZut"
      },
      "outputs": [],
      "source": [
        "def low_rank_net_fn(batch: Batch, rank: float) -> jnp.ndarray:\n",
        "  \n",
        "  x = normalize(batch[0])\n",
        "  total_input_dim = np.prod(x.shape[1:])\n",
        "\n",
        "  # Do not alter the architecture code.\n",
        "  net = hk.Sequential([\n",
        "      hk.Conv2D(output_channels=6*3, kernel_shape=(5,5)),\n",
        "      jax.nn.relu,\n",
        "      hk.AvgPool(window_shape=(2,2), strides=(2,2), padding='VALID'),\n",
        "      jax.nn.relu,\n",
        "      hk.Conv2D(output_channels=16*3, kernel_shape=(5,5)),\n",
        "      jax.nn.relu,\n",
        "      hk.AvgPool(window_shape=(2,2), strides=(2,2), padding='VALID'),\n",
        "      hk.Flatten(),\n",
        "      hk.Linear(int(rank * min(total_input_dim, 3000)), with_bias=False),\n",
        "      hk.Linear(3000), jax.nn.relu,\n",
        "      hk.Linear(int(rank * 2000), with_bias=False), \n",
        "      hk.Linear(2000), jax.nn.relu,\n",
        "      hk.Linear(int(rank * 2000), with_bias=False), \n",
        "      hk.Linear(2000), jax.nn.relu,      \n",
        "      hk.Linear(int(rank * 1000), with_bias=False), \n",
        "      hk.Linear(1000), jax.nn.relu,\n",
        "      hk.Linear(int(rank * 10), with_bias=False),\n",
        "      hk.Linear(10),\n",
        "  ])\n",
        "  return net(x)"
      ]
    },
    {
      "cell_type": "code",
      "execution_count": 16,
      "metadata": {
        "colab": {
          "base_uri": "https://localhost:8080/"
        },
        "id": "Zi2TN_WV-jgZ",
        "outputId": "e76e1f1b-9dec-4e70-ae3b-deb31b4e3ed6"
      },
      "outputs": [
        {
          "output_type": "stream",
          "name": "stdout",
          "text": [
            "Evaluating the model at1.00\n",
            "Rank Fraction / Test accuracy: 1.00 / 0.595.\n",
            "Rank Fraction / Duration: 1.00 / 0.2886.\n",
            "Evaluating the model at0.90\n",
            "Rank Fraction / Test accuracy: 0.90 / 0.596.\n",
            "Rank Fraction / Duration: 0.90 / 0.2841.\n",
            "Evaluating the model at0.80\n",
            "Rank Fraction / Test accuracy: 0.80 / 0.596.\n",
            "Rank Fraction / Duration: 0.80 / 0.2571.\n",
            "Evaluating the model at0.70\n",
            "Rank Fraction / Test accuracy: 0.70 / 0.592.\n",
            "Rank Fraction / Duration: 0.70 / 0.2371.\n",
            "Evaluating the model at0.60\n",
            "Rank Fraction / Test accuracy: 0.60 / 0.592.\n",
            "Rank Fraction / Duration: 0.60 / 0.2173.\n",
            "Evaluating the model at0.50\n",
            "Rank Fraction / Test accuracy: 0.50 / 0.570.\n",
            "Rank Fraction / Duration: 0.50 / 0.1926.\n",
            "Evaluating the model at0.40\n",
            "Rank Fraction / Test accuracy: 0.40 / 0.549.\n",
            "Rank Fraction / Duration: 0.40 / 0.1802.\n",
            "Evaluating the model at0.30\n",
            "Rank Fraction / Test accuracy: 0.30 / 0.529.\n",
            "Rank Fraction / Duration: 0.30 / 0.1578.\n",
            "Evaluating the model at0.20\n",
            "Rank Fraction / Test accuracy: 0.20 / 0.338.\n",
            "Rank Fraction / Duration: 0.20 / 0.1335.\n",
            "Evaluating the model at0.10\n",
            "Rank Fraction / Test accuracy: 0.10 / 0.189.\n",
            "Rank Fraction / Duration: 0.10 / 0.1174.\n"
          ]
        }
      ],
      "source": [
        "vanilla_to_low_rank_map = {\n",
        "    'conv2_d': 'conv2_d',\n",
        "    'conv2_d_1': 'conv2_d_1',\n",
        "    'linear': ['linear', 'linear_1'],\n",
        "    'linear_1': ['linear_2', 'linear_3'],\n",
        "    'linear_2': ['linear_4', 'linear_5'],\n",
        "    'linear_3': ['linear_6', 'linear_7'],\n",
        "    'linear_4': ['linear_8', 'linear_9']\n",
        "}\n",
        "\n",
        "\n",
        "ranks_and_accuracies = []\n",
        "ranks_and_times = []\n",
        "for rank_fraction in np.arange(1.0, 0.0, -0.1):\n",
        "  low_rank_net_fn_partial = partial(low_rank_net_fn, rank=rank_fraction)\n",
        "  net = hk.without_apply_rng(hk.transform(low_rank_net_fn_partial)) \n",
        "  low_rank_params = net.init(jax.random.PRNGKey(42), next(train))\n",
        "\n",
        "  print(f\"Evaluating the model at\" f\"{rank_fraction:.2f}\")\n",
        "\n",
        "  for layer in vanilla_to_low_rank_map.keys():\n",
        "    if 'conv' in layer:\n",
        "      low_rank_params[layer] = params[layer]\n",
        "      continue\n",
        "    weight = params[layer]['w']\n",
        "    # TODO: complete coding the rank_approximated_weight function to compute the SVD of the matrix to return the rank approximated weights u and v for a given matrix.\n",
        "    u, v = rank_approximated_weight(weight, rank_fraction)\n",
        "    low_rank_params[vanilla_to_low_rank_map[layer][0]]['w'] = u\n",
        "    low_rank_params[vanilla_to_low_rank_map[layer][1]]['w'] = v\n",
        "    low_rank_params[vanilla_to_low_rank_map[layer][1]]['b'] = params[layer]['b']\n",
        "  \n",
        "  # TODO: modify the compute_eval_metrics function below to compute the time taken for inference.\n",
        "  test_accuracy, duration = compute_eval_metrics(low_rank_params, next(test), 50)\n",
        "  ranks_and_times.append((rank_fraction, np.mean(duration)))\n",
        "  ranks_and_accuracies.append((rank_fraction, np.mean(test_accuracy)))\n",
        "  print(f\"Rank Fraction / Test accuracy: \"\n",
        "          f\"{rank_fraction:.2f} / {np.mean(test_accuracy):.3f}.\")\n",
        "  print(f\"Rank Fraction / Duration: \"\n",
        "          f\"{rank_fraction:.2f} / {np.mean(duration):.4f}.\")"
      ]
    },
    {
      "cell_type": "markdown",
      "metadata": {
        "id": "ObBn-Pf_996r"
      },
      "source": [
        "### Q6: Plot a curve showing time vs rank percentage of the matrix "
      ]
    },
    {
      "cell_type": "code",
      "execution_count": 17,
      "metadata": {
        "id": "c0bJJFL4LM7q",
        "colab": {
          "base_uri": "https://localhost:8080/",
          "height": 295
        },
        "outputId": "2bc3ae9d-2517-4546-f6fc-f928b1556707"
      },
      "outputs": [
        {
          "output_type": "display_data",
          "data": {
            "text/plain": [
              "<Figure size 432x288 with 1 Axes>"
            ],
            "image/png": "[encoded data removed]"
          },
          "metadata": {
            "needs_background": "light"
          }
        }
      ],
      "source": [
        "# TODO: add code to plot the relationship between time vs percentage rank of the matrix.\n",
        "x = []\n",
        "y = []\n",
        "for r, t in ranks_and_times:\n",
        "  y.append(t)\n",
        "  x.append(r)\n",
        "plt.plot(x, y)\n",
        "plt.title(\"Relationship between time and rank percentage\")\n",
        "plt.xlabel(\"rank %\")\n",
        "plt.ylabel(\"time\")\n",
        "plt.show()"
      ]
    },
    {
      "cell_type": "markdown",
      "metadata": {
        "id": "313ALwDu93k1"
      },
      "source": [
        "### Q7: What do you observe between time and the percentage rank of the matrix.\n",
        "\n",
        "### Put your answer here:"
      ]
    },
    {
      "cell_type": "markdown",
      "source": [
        "Time is increasing almost linearly with rank %"
      ],
      "metadata": {
        "id": "u1TyFsvO23Hc"
      }
    },
    {
      "cell_type": "markdown",
      "metadata": {
        "id": "QHcBKkogM6uV"
      },
      "source": [
        "\n",
        "\n",
        "---\n",
        "\n"
      ]
    },
    {
      "cell_type": "markdown",
      "metadata": {
        "id": "jEAu9Vu-0rWX"
      },
      "source": [
        "## Coding Challenge Part 4: Take this Further (10 bonus points)\n",
        "\n",
        "This part of the challenge is designed to be open ended. If you wanted to show some more skills, here is your chance to shine. We include two options below -- **only do one of the options**:\n",
        "\n",
        "**Option 1:** Implement a change that isn't SVD but minimizes inference latency while preserving accuracy. Can you outperform SVD? \n",
        "\n",
        "\n",
        "\n",
        "**Option 2:** Improve the quality of code for this takehome. Pretend you are reviewing a peer and add comments to cells with suggestions of how to improve the code quality. Try and make your comments action orientated and precise. \n",
        "\n",
        "\n",
        "**For Option 1, DO NOT alter the previous code sections, instead add any new code below. You should not need to add new code for Option 2, instead just add comments to cells.**\n"
      ]
    },
    {
      "cell_type": "code",
      "execution_count": null,
      "metadata": {
        "id": "KoN-IhY9hNQE"
      },
      "outputs": [],
      "source": [
        "# TODO: add code for option 1 here"
      ]
    },
    {
      "cell_type": "markdown",
      "metadata": {
        "id": "fq2zcXoRNkYx"
      },
      "source": [
        "## You have made it to the end of the challenge!\n",
        "\n",
        "Before you submit your completed challenge document, please make sure to **save and pin your revisions** before submitting a link to your submission via the [Cohere For AI Scholars Program Application.](https://jobs.lever.co/cohere/) "
      ]
    }
  ],
  "metadata": {
    "accelerator": "GPU",
    "colab": {
      "collapsed_sections": [
        "-v-iHTH3nasL",
        "UHGqpn3tkFRL"
      ],
      "provenance": [],
      "include_colab_link": true
    },
    "gpuClass": "standard",
    "kernelspec": {
      "display_name": "Python 3",
      "name": "python3"
    },
    "language_info": {
      "name": "python"
    }
  },
  "nbformat": 4,
  "nbformat_minor": 0
}